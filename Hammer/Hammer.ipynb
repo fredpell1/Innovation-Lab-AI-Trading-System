{
 "cells": [
  {
   "cell_type": "code",
   "execution_count": 55,
   "id": "5fe6d41a",
   "metadata": {},
   "outputs": [],
   "source": [
    "import pandas as pd\n",
    "import numpy as np"
   ]
  },
  {
   "cell_type": "code",
   "execution_count": 56,
   "id": "dd33a78f",
   "metadata": {},
   "outputs": [],
   "source": [
    "df = pd.read_csv(r\"C:\\Users\\frede\\OneDrive\\Documents\\Concordia\\InnovationLab\\data.csv\")\n"
   ]
  },
  {
   "cell_type": "code",
   "execution_count": 57,
   "id": "8edf2070",
   "metadata": {},
   "outputs": [],
   "source": [
    "#Compute length of lower_wick\n",
    "def lower_wick(df):\n",
    "    lw = []\n",
    "    for i in range(0,len(df)):\n",
    "        lw.append(abs(min(df[\"Open\"][i], df[\"Close\"][i]) - df[\"Low\"][i]))\n",
    "    return lw"
   ]
  },
  {
   "cell_type": "code",
   "execution_count": 58,
   "id": "5840332a",
   "metadata": {},
   "outputs": [],
   "source": [
    "# test proportion btwn lower wick and body\n",
    "def proportion(body,lowerWick):\n",
    "    prop = []\n",
    "    for i in range(len(body)):\n",
    "        prop.append(lowerWick[i] >= 2 * body[i])\n",
    "        \n",
    "    return prop"
   ]
  },
  {
   "cell_type": "code",
   "execution_count": 75,
   "id": "fa880566",
   "metadata": {},
   "outputs": [],
   "source": [
    "#test if the body is in the upper range\n",
    "def upper_range(df,k):\n",
    "    upperRange = []\n",
    "    for i in range(len(df) ):\n",
    "        upperRange.append(min(df[\"Open\"][i], df[\"Close\"][i]) >= df[\"Low\"][i] + k*(df[\"High\"][i] - df[\"Low\"][i]))\n",
    "    return upperRange"
   ]
  },
  {
   "cell_type": "code",
   "execution_count": 80,
   "id": "47c39c18",
   "metadata": {},
   "outputs": [],
   "source": [
    "#test if we have a price decline \n",
    "def price_decline(df):\n",
    "    priceDec = [False,False]\n",
    "    for i in range(2,len(df)):\n",
    "        priceDec.append(df[\"Close\"][i-1] <= df[\"Close\"][i-2] and df[\"Close\"][i-2] <= df[\"Close\"][i-3] and\n",
    "                       df[\"Low\"][i-1] <= df[\"Low\"][i-2] and df[\"Low\"][i-2] <= df[\"Low\"][i-3])\n",
    "\n",
    "    return priceDec"
   ]
  },
  {
   "cell_type": "code",
   "execution_count": null,
   "id": "44118ec4",
   "metadata": {},
   "outputs": [],
   "source": []
  },
  {
   "cell_type": "code",
   "execution_count": null,
   "id": "0e900611",
   "metadata": {},
   "outputs": [],
   "source": []
  },
  {
   "cell_type": "code",
   "execution_count": null,
   "id": "7ce2427d",
   "metadata": {},
   "outputs": [],
   "source": []
  },
  {
   "cell_type": "code",
   "execution_count": 87,
   "id": "7b515ff1",
   "metadata": {},
   "outputs": [],
   "source": [
    "def hammer(df):\n",
    "    body = abs(df[\"Open\"] - df[\"Close\"])\n",
    "    lowerWick = lower_wick(df)\n",
    "    prop = proportion(body,lowerWick)\n",
    "    upperRange = upper_range(df,0.67)\n",
    "    priceDec = price_decline(df)\n",
    "    return [prop[i] and upperRange[i] and priceDec[i] for i in range(len(df))]\n",
    "    "
   ]
  },
  {
   "cell_type": "code",
   "execution_count": 88,
   "id": "b1f444b1",
   "metadata": {},
   "outputs": [],
   "source": [
    "df[\"Hammer\"] = hammer(df)"
   ]
  },
  {
   "cell_type": "code",
   "execution_count": 89,
   "id": "261316f6",
   "metadata": {},
   "outputs": [
    {
     "data": {
      "text/plain": [
       "False    1029\n",
       "True       13\n",
       "Name: Hammer, dtype: int64"
      ]
     },
     "execution_count": 89,
     "metadata": {},
     "output_type": "execute_result"
    }
   ],
   "source": [
    "df[\"Hammer\"].value_counts()"
   ]
  },
  {
   "cell_type": "code",
   "execution_count": null,
   "id": "4cc37bb3",
   "metadata": {},
   "outputs": [],
   "source": []
  },
  {
   "cell_type": "code",
   "execution_count": 90,
   "id": "a339fda3",
   "metadata": {},
   "outputs": [],
   "source": [
    "df.to_csv(r\"C:\\Users\\frede\\OneDrive\\Documents\\Concordia\\InnovationLab\\data2.csv\")"
   ]
  },
  {
   "cell_type": "code",
   "execution_count": null,
   "id": "c4fb0269",
   "metadata": {},
   "outputs": [],
   "source": []
  },
  {
   "cell_type": "code",
   "execution_count": null,
   "id": "adf534ea",
   "metadata": {},
   "outputs": [],
   "source": []
  },
  {
   "cell_type": "code",
   "execution_count": null,
   "id": "45419c7b",
   "metadata": {},
   "outputs": [],
   "source": []
  },
  {
   "cell_type": "code",
   "execution_count": null,
   "id": "77308e58",
   "metadata": {},
   "outputs": [],
   "source": []
  }
 ],
 "metadata": {
  "kernelspec": {
   "display_name": "Python 3",
   "language": "python",
   "name": "python3"
  },
  "language_info": {
   "codemirror_mode": {
    "name": "ipython",
    "version": 3
   },
   "file_extension": ".py",
   "mimetype": "text/x-python",
   "name": "python",
   "nbconvert_exporter": "python",
   "pygments_lexer": "ipython3",
   "version": "3.9.5"
  }
 },
 "nbformat": 4,
 "nbformat_minor": 5
}
