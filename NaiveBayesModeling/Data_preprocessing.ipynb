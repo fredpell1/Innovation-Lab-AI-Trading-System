{
 "cells": [
  {
   "cell_type": "markdown",
   "id": "c9d77882",
   "metadata": {},
   "source": [
    "### Importing relevant libraries"
   ]
  },
  {
   "cell_type": "code",
   "execution_count": 95,
   "id": "cda4bf98",
   "metadata": {},
   "outputs": [],
   "source": [
    "import pandas as pd\n",
    "import numpy as np\n",
    "import plotly.graph_objects as go\n",
    "import matplotlib.pyplot as plt"
   ]
  },
  {
   "cell_type": "markdown",
   "id": "d28959c3",
   "metadata": {},
   "source": [
    "### Importing dataset"
   ]
  },
  {
   "cell_type": "code",
   "execution_count": 96,
   "id": "dd9beb6c",
   "metadata": {},
   "outputs": [],
   "source": [
    "df = pd.read_csv(\"alldata.csv\")"
   ]
  },
  {
   "cell_type": "code",
   "execution_count": 97,
   "id": "fa888a41",
   "metadata": {},
   "outputs": [],
   "source": [
    "df = df.drop(\"Unnamed: 7\", axis = 1)"
   ]
  },
  {
   "cell_type": "code",
   "execution_count": 98,
   "id": "2cba1e07",
   "metadata": {},
   "outputs": [],
   "source": [
    "df = df.drop(1042, axis = 0)"
   ]
  },
  {
   "cell_type": "code",
   "execution_count": 99,
   "id": "068ba66a",
   "metadata": {},
   "outputs": [],
   "source": [
    "df[\"ZeroCross\"] = df[\"ZERO CROSS OVER\"].copy()\n",
    "df = df.drop(\"ZERO CROSS OVER\", axis =1)\n",
    "df[\"SignalCross\"] = df[\"SIGNAL LINE CROSSOVER\"].copy()\n",
    "df = df.drop(\"SIGNAL LINE CROSSOVER\", axis = 1)\n",
    "df[\"macdDecision\"] = df[\"Decision\"].copy()\n",
    "df = df.drop(\"Decision\", axis = 1)"
   ]
  },
  {
   "cell_type": "markdown",
   "id": "ef805587",
   "metadata": {},
   "source": [
    "### Transforming hammer variable: 0= no hammer, 1 = hammer"
   ]
  },
  {
   "cell_type": "code",
   "execution_count": 100,
   "id": "fe7dd34e",
   "metadata": {},
   "outputs": [],
   "source": [
    "df[\"Hammer\"] = df[\"Hammer\"].replace(\"HAMMER\", 1)\n",
    "df[\"Hammer\"] = df[\"Hammer\"].fillna(0)"
   ]
  },
  {
   "cell_type": "markdown",
   "id": "08a6cdb1",
   "metadata": {},
   "source": [
    "### Transforming Support and Resistance: support = resistance = 1 ; other = 0"
   ]
  },
  {
   "cell_type": "code",
   "execution_count": 101,
   "id": "28568786",
   "metadata": {},
   "outputs": [],
   "source": [
    "def supportResistanceEncoding(df):\n",
    "    df[\"Support\"] = df[\"Support\"].fillna(0)\n",
    "    df[\"Resistance\"] = df[\"Resistance\"].fillna(0)\n",
    "    df.loc[df.Support == \"S\", \"Support\"] = 1\n",
    "    df.loc[df.Resistance == \"R\", \"Resistance\"] = 1\n",
    "\n",
    "supportResistanceEncoding(df)\n"
   ]
  },
  {
   "cell_type": "markdown",
   "id": "9c99431c",
   "metadata": {},
   "source": [
    "### Transforming Zero cross over and signal Line Crossover: sell = 0, buy = 1"
   ]
  },
  {
   "cell_type": "code",
   "execution_count": 102,
   "id": "7c1c260c",
   "metadata": {},
   "outputs": [],
   "source": [
    "def crossoverEncoding(df):\n",
    "    df.loc[df.ZeroCross == \"Buy\", \"ZeroCross\"] = 1\n",
    "    df.loc[df.SignalCross == \"Buy\", \"SignalCross\"] = 1\n",
    "    df.loc[df.ZeroCross == \"Sell\", \"ZeroCross\"] = 0\n",
    "    df.loc[df.SignalCross == \"Sell\", \"SignalCross\"] = 0\n",
    "    \n",
    "crossoverEncoding(df)"
   ]
  },
  {
   "cell_type": "code",
   "execution_count": 103,
   "id": "808998ef",
   "metadata": {},
   "outputs": [],
   "source": [
    "#dropping this column since it is not common practice to base a decision only on the two crossovers\n",
    "df = df.drop(\"macdDecision\", axis = 1)"
   ]
  },
  {
   "cell_type": "code",
   "execution_count": null,
   "id": "86034ee0",
   "metadata": {},
   "outputs": [],
   "source": []
  },
  {
   "cell_type": "markdown",
   "id": "f24b8abb",
   "metadata": {},
   "source": [
    "### Finding perfect buy/sell/hold entries \n",
    "#### looking at future values, we will determine if at each entry, the best option would have been to buy/sell/hold based on the return on the investment (%)"
   ]
  },
  {
   "cell_type": "code",
   "execution_count": 104,
   "id": "5f8636b0",
   "metadata": {},
   "outputs": [],
   "source": [
    "# Assume zero trading cost\n",
    "# 0 = hold, 1 = buy, 2 = sell\n",
    "# Rule: compare today's closing and +timeframe day's closing\n",
    "# We omit the first 26 days since williams%Rs are unavailable, decision value = -1\n",
    "# We omit the last timeframe days since the next timeframe days closing is unavailable, decision value = -1\n",
    "\n",
    "def perfectEntries_2(df, timeframe):\n",
    "    decision = [-1 for i in range(33)]  # for the first 32 days\n",
    "    currentdecision = 0\n",
    "\n",
    "    for i in range(33, (len(df) - timeframe)):  # from 33th day to the timeframe days before the last day\n",
    "        if df.iloc[i+timeframe]['Close'] > df.iloc[i]['Close']:\n",
    "            if currentdecision != 1:\n",
    "                currentdecision = 1\n",
    "            else:\n",
    "                currentdecision = 0\n",
    "            decision.append(currentdecision)\n",
    "            currentdecision = 1  # Make sure if next day is buy, we show it hold\n",
    "        elif df.iloc[i+timeframe]['Close'] < df.iloc[i]['Close']:\n",
    "            # The first sell cannot appear before buy or hold\n",
    "            if decision.count(1) > 0:\n",
    "                if currentdecision != 2:\n",
    "                    currentdecision = 2\n",
    "                else:\n",
    "                    currentdecision = 0\n",
    "                decision.append(currentdecision)\n",
    "                currentdecision = 2  # Make sure if next day is sell, we show it hold\n",
    "            else:\n",
    "                currentdecision = 0\n",
    "                decision.append(currentdecision)\n",
    "        else:\n",
    "            currentdecision = 0\n",
    "            decision.append(currentdecision)\n",
    "    for i in range(timeframe):\n",
    "        decision.append(-1)  # for the last timeframe days\n",
    "\n",
    "    return decision\n"
   ]
  },
  {
   "cell_type": "code",
   "execution_count": 105,
   "id": "bc780f4c",
   "metadata": {},
   "outputs": [],
   "source": [
    "# Assume zero trading cost\n",
    "# 1 = buy, 0 = sell\n",
    "# repeated buy/sell signal implies a hold strategy\n",
    "# possibility of short selling\n",
    "# we omit the first 32 days since indicators are not all available\n",
    "# we omit the (last n-timeframe) days since the algorithm work by looking in the future\n",
    "def perfectEntries_3(df,timeframe):\n",
    "    decision = [-1 for i in range(33)] \n",
    "    \n",
    "    for i in range(33,len(df) - timeframe):\n",
    "        if df.iloc[i + timeframe][\"Close\"] > df.iloc[i][\"Close\"]:\n",
    "            decision.append(1)\n",
    "        else: \n",
    "            decision.append(0)\n",
    "            \n",
    "    for i in range(timeframe): #for the last timeframe days\n",
    "        decision.append(-1)\n",
    "    \n",
    "    return decision\n"
   ]
  },
  {
   "cell_type": "code",
   "execution_count": 106,
   "id": "3eea335b",
   "metadata": {},
   "outputs": [],
   "source": [
    "def perfectEntries_4(df,timeframe,smoother=True):\n",
    "    \"\"\"\n",
    "    df = dataframe used\n",
    "    timeframe = time looked in the future\n",
    "    smoother = determine if we use the average or the exact value\n",
    "    \"\"\"\n",
    "    decision = [-1 for i in range(33)]\n",
    "    if smoother == True:\n",
    "        for i in range(33,len(df) - timeframe):\n",
    "            avg = np.mean(df.iloc[i:i+timeframe]['Close'])\n",
    "            if df.iloc[i]['Close'] < avg:\n",
    "                decision.append(1)\n",
    "            else:\n",
    "                decision.append(0)\n",
    "        \n",
    "    \n",
    "    else:\n",
    "        for i in range(33,len(df) - timeframe):\n",
    "            if df.iloc[i]['Close'] < df.iloc[i+timeframe]['Close']:\n",
    "                decision.append(1)\n",
    "            else:\n",
    "                decision.append(0)\n",
    "    for i in range(timeframe):\n",
    "        decision.append(-1)\n",
    "        \n",
    "    return decision\n",
    "        \n",
    "        "
   ]
  },
  {
   "cell_type": "code",
   "execution_count": null,
   "id": "f972b183",
   "metadata": {},
   "outputs": [],
   "source": []
  },
  {
   "cell_type": "code",
   "execution_count": null,
   "id": "ea8a110e",
   "metadata": {},
   "outputs": [],
   "source": []
  },
  {
   "cell_type": "code",
   "execution_count": null,
   "id": "609b3111",
   "metadata": {},
   "outputs": [],
   "source": []
  },
  {
   "cell_type": "code",
   "execution_count": 107,
   "id": "3da6433d",
   "metadata": {},
   "outputs": [
    {
     "data": {
      "text/plain": [
       "<matplotlib.colorbar.Colorbar at 0x1ce98e0c490>"
      ]
     },
     "execution_count": 107,
     "metadata": {},
     "output_type": "execute_result"
    },
    {
     "data": {
      "image/png": "[encoded data removed]",
      "text/plain": [
       "<Figure size 432x288 with 2 Axes>"
      ]
     },
     "metadata": {
      "needs_background": "light"
     },
     "output_type": "display_data"
    }
   ],
   "source": [
    "df['Decision14'] = perfectEntries_4(df,14)\n",
    "df['Decision28'] = perfectEntries_4(df,28)\n",
    "plt.scatter(range(200), df[\"Close\"][400:600], c=df[\"Decision14\"][400:600])\n",
    "plt.colorbar(ticks = range(3), label='Decision')\n",
    "# takin 14 and 28 with the smoother activated to comparw which one works better with naive bayes \n",
    "# "
   ]
  },
  {
   "cell_type": "code",
   "execution_count": 108,
   "id": "b2adb410",
   "metadata": {},
   "outputs": [
    {
     "data": {
      "text/plain": [
       "<matplotlib.colorbar.Colorbar at 0x1ce98eae640>"
      ]
     },
     "execution_count": 108,
     "metadata": {},
     "output_type": "execute_result"
    },
    {
     "data": {
      "image/png": "[encoded data removed]",
      "text/plain": [
       "<Figure size 432x288 with 2 Axes>"
      ]
     },
     "metadata": {
      "needs_background": "light"
     },
     "output_type": "display_data"
    }
   ],
   "source": [
    "plt.scatter(range(200), df[\"Close\"][400:600], c=df[\"Decision28\"][400:600])\n",
    "plt.colorbar(ticks = range(3), label='Decision')"
   ]
  },
  {
   "cell_type": "code",
   "execution_count": 109,
   "id": "e7eef828",
   "metadata": {},
   "outputs": [],
   "source": [
    "# Convert willianR values to 0 = neutral, 1 = overbought, 2 = oversold\n",
    "# The first 13 days are excluded, gives zero value automatically\n",
    "\n",
    "def williamsREncoding(df):\n",
    "\n",
    "    williamsR = [0 for i in range(13)]\n",
    "\n",
    "    for i in range(13, len(df)):\n",
    "\n",
    "        if df.iloc[i]['WilliamR'] < -0.2 and df.iloc[i]['WilliamR'] > -0.8:\n",
    "            williamsR.append(0)\n",
    "        elif df.iloc[i]['WilliamR'] >= -0.2:\n",
    "            williamsR.append(1)\n",
    "        else:\n",
    "            williamsR.append(2)\n",
    "    \n",
    "    return williamsR\n",
    "\n",
    "df.insert(11, 'Williams%R', williamsREncoding(df))\n"
   ]
  },
  {
   "cell_type": "code",
   "execution_count": null,
   "id": "eb5c500f",
   "metadata": {},
   "outputs": [],
   "source": []
  },
  {
   "cell_type": "code",
   "execution_count": 110,
   "id": "d9a6fd6a",
   "metadata": {},
   "outputs": [],
   "source": [
    "#df.to_csv('cleaned_data.csv', index = False)"
   ]
  }
 ],
 "metadata": {
  "interpreter": {
   "hash": "1500c23fa3da933eb48763b18a00243dbdcd69daa062c1b39b77a14cf22f605c"
  },
  "kernelspec": {
   "display_name": "Python 3",
   "language": "python",
   "name": "python3"
  },
  "language_info": {
   "codemirror_mode": {
    "name": "ipython",
    "version": 3
   },
   "file_extension": ".py",
   "mimetype": "text/x-python",
   "name": "python",
   "nbconvert_exporter": "python",
   "pygments_lexer": "ipython3",
   "version": "3.9.5"
  }
 },
 "nbformat": 4,
 "nbformat_minor": 5
}
