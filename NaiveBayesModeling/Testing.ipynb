{
 "cells": [
  {
   "cell_type": "markdown",
   "id": "0bd7e39c",
   "metadata": {},
   "source": [
    "# Importing libraries"
   ]
  },
  {
   "cell_type": "code",
   "execution_count": 160,
   "id": "6ce94427",
   "metadata": {},
   "outputs": [],
   "source": [
    "import pandas as pd\n",
    "import numpy as np\n",
    "from sklearn.naive_bayes import ComplementNB\n",
    "from sklearn.naive_bayes import MultinomialNB\n",
    "from sklearn.model_selection import train_test_split\n",
    "from sklearn.metrics import confusion_matrix, f1_score\n",
    "from sklearn.metrics import balanced_accuracy_score\n",
    "\n",
    "from fastquant import backtest, get_stock_data\n",
    "from fastquant.strategies import TernaryStrategy\n",
    "from matplotlib import pyplot as plt\n",
    "import matplotlib.dates"
   ]
  },
  {
   "cell_type": "code",
   "execution_count": null,
   "id": "796ce34d",
   "metadata": {},
   "outputs": [],
   "source": []
  },
  {
   "cell_type": "markdown",
   "id": "8f09eab5",
   "metadata": {},
   "source": [
    "# Importing data and last cleanup"
   ]
  },
  {
   "cell_type": "code",
   "execution_count": 161,
   "id": "04bd76d8",
   "metadata": {},
   "outputs": [],
   "source": [
    "df = pd.read_csv(\"cleaned_data.csv\")"
   ]
  },
  {
   "cell_type": "code",
   "execution_count": 162,
   "id": "bc2f6950",
   "metadata": {},
   "outputs": [],
   "source": [
    "df = df.loc[df[\"Decision14\"] != -1]\n",
    "df2 = df[['Support', 'Resistance','Hammer', 'ZeroCross', 'SignalCross', 'Decision14']]\n",
    "#df2 = df[['Resistance', 'Williams%R', 'SignalCross' ]]"
   ]
  },
  {
   "cell_type": "markdown",
   "id": "abde46a6",
   "metadata": {},
   "source": [
    "# Splitting the data"
   ]
  },
  {
   "cell_type": "code",
   "execution_count": 163,
   "id": "4b3fa8ce",
   "metadata": {},
   "outputs": [],
   "source": [
    "train = df2[0:692] #from 2016 to 2018\n",
    "test = df2[692:] #from 2019 to 2020"
   ]
  },
  {
   "cell_type": "code",
   "execution_count": 164,
   "id": "f772e1a0",
   "metadata": {},
   "outputs": [],
   "source": [
    "x_train = train.iloc[:,:-1].to_numpy()\n",
    "x_test = test.iloc[:,:-1].to_numpy()\n",
    "y_train = train.iloc[:,-1].to_numpy()\n",
    "y_test = test.iloc[:,-1].to_numpy()\n"
   ]
  },
  {
   "cell_type": "code",
   "execution_count": 165,
   "id": "34f3722d",
   "metadata": {},
   "outputs": [
    {
     "data": {
      "text/html": [
       "<div>\n",
       "<style scoped>\n",
       "    .dataframe tbody tr th:only-of-type {\n",
       "        vertical-align: middle;\n",
       "    }\n",
       "\n",
       "    .dataframe tbody tr th {\n",
       "        vertical-align: top;\n",
       "    }\n",
       "\n",
       "    .dataframe thead th {\n",
       "        text-align: right;\n",
       "    }\n",
       "</style>\n",
       "<table border=\"1\" class=\"dataframe\">\n",
       "  <thead>\n",
       "    <tr style=\"text-align: right;\">\n",
       "      <th></th>\n",
       "      <th>Support</th>\n",
       "      <th>Resistance</th>\n",
       "      <th>Hammer</th>\n",
       "      <th>ZeroCross</th>\n",
       "      <th>SignalCross</th>\n",
       "      <th>Decision14</th>\n",
       "    </tr>\n",
       "  </thead>\n",
       "  <tbody>\n",
       "    <tr>\n",
       "      <th>725</th>\n",
       "      <td>0</td>\n",
       "      <td>0</td>\n",
       "      <td>0.0</td>\n",
       "      <td>0.0</td>\n",
       "      <td>1.0</td>\n",
       "      <td>1</td>\n",
       "    </tr>\n",
       "    <tr>\n",
       "      <th>726</th>\n",
       "      <td>0</td>\n",
       "      <td>0</td>\n",
       "      <td>0.0</td>\n",
       "      <td>0.0</td>\n",
       "      <td>1.0</td>\n",
       "      <td>1</td>\n",
       "    </tr>\n",
       "    <tr>\n",
       "      <th>727</th>\n",
       "      <td>0</td>\n",
       "      <td>0</td>\n",
       "      <td>0.0</td>\n",
       "      <td>0.0</td>\n",
       "      <td>1.0</td>\n",
       "      <td>1</td>\n",
       "    </tr>\n",
       "    <tr>\n",
       "      <th>728</th>\n",
       "      <td>0</td>\n",
       "      <td>0</td>\n",
       "      <td>0.0</td>\n",
       "      <td>1.0</td>\n",
       "      <td>1.0</td>\n",
       "      <td>1</td>\n",
       "    </tr>\n",
       "    <tr>\n",
       "      <th>729</th>\n",
       "      <td>0</td>\n",
       "      <td>0</td>\n",
       "      <td>0.0</td>\n",
       "      <td>1.0</td>\n",
       "      <td>1.0</td>\n",
       "      <td>1</td>\n",
       "    </tr>\n",
       "    <tr>\n",
       "      <th>...</th>\n",
       "      <td>...</td>\n",
       "      <td>...</td>\n",
       "      <td>...</td>\n",
       "      <td>...</td>\n",
       "      <td>...</td>\n",
       "      <td>...</td>\n",
       "    </tr>\n",
       "    <tr>\n",
       "      <th>1023</th>\n",
       "      <td>0</td>\n",
       "      <td>0</td>\n",
       "      <td>0.0</td>\n",
       "      <td>0.0</td>\n",
       "      <td>0.0</td>\n",
       "      <td>1</td>\n",
       "    </tr>\n",
       "    <tr>\n",
       "      <th>1024</th>\n",
       "      <td>0</td>\n",
       "      <td>0</td>\n",
       "      <td>0.0</td>\n",
       "      <td>0.0</td>\n",
       "      <td>0.0</td>\n",
       "      <td>1</td>\n",
       "    </tr>\n",
       "    <tr>\n",
       "      <th>1025</th>\n",
       "      <td>0</td>\n",
       "      <td>0</td>\n",
       "      <td>0.0</td>\n",
       "      <td>0.0</td>\n",
       "      <td>0.0</td>\n",
       "      <td>1</td>\n",
       "    </tr>\n",
       "    <tr>\n",
       "      <th>1026</th>\n",
       "      <td>0</td>\n",
       "      <td>0</td>\n",
       "      <td>0.0</td>\n",
       "      <td>0.0</td>\n",
       "      <td>0.0</td>\n",
       "      <td>1</td>\n",
       "    </tr>\n",
       "    <tr>\n",
       "      <th>1027</th>\n",
       "      <td>0</td>\n",
       "      <td>0</td>\n",
       "      <td>0.0</td>\n",
       "      <td>0.0</td>\n",
       "      <td>0.0</td>\n",
       "      <td>1</td>\n",
       "    </tr>\n",
       "  </tbody>\n",
       "</table>\n",
       "<p>303 rows × 6 columns</p>\n",
       "</div>"
      ],
      "text/plain": [
       "      Support  Resistance  Hammer  ZeroCross  SignalCross  Decision14\n",
       "725         0           0     0.0        0.0          1.0           1\n",
       "726         0           0     0.0        0.0          1.0           1\n",
       "727         0           0     0.0        0.0          1.0           1\n",
       "728         0           0     0.0        1.0          1.0           1\n",
       "729         0           0     0.0        1.0          1.0           1\n",
       "...       ...         ...     ...        ...          ...         ...\n",
       "1023        0           0     0.0        0.0          0.0           1\n",
       "1024        0           0     0.0        0.0          0.0           1\n",
       "1025        0           0     0.0        0.0          0.0           1\n",
       "1026        0           0     0.0        0.0          0.0           1\n",
       "1027        0           0     0.0        0.0          0.0           1\n",
       "\n",
       "[303 rows x 6 columns]"
      ]
     },
     "execution_count": 165,
     "metadata": {},
     "output_type": "execute_result"
    }
   ],
   "source": [
    "test"
   ]
  },
  {
   "cell_type": "markdown",
   "id": "30b1a339",
   "metadata": {},
   "source": [
    "# Getting the predictions"
   ]
  },
  {
   "cell_type": "code",
   "execution_count": 166,
   "id": "0a86f0ca",
   "metadata": {},
   "outputs": [
    {
     "name": "stdout",
     "output_type": "stream",
     "text": [
      "0.5579926302860151\n",
      "0.528052805280528\n"
     ]
    }
   ],
   "source": [
    "clf = ComplementNB()\n",
    "clf.fit(x_train,y_train)\n",
    "pred = clf.predict(x_test)\n",
    "print(balanced_accuracy_score(y_test,pred))\n",
    "print(clf.score(x_test,y_test))"
   ]
  },
  {
   "cell_type": "code",
   "execution_count": null,
   "id": "b85c3655",
   "metadata": {},
   "outputs": [],
   "source": []
  },
  {
   "cell_type": "markdown",
   "id": "e593a1ef",
   "metadata": {},
   "source": [
    "# Adding hold to the predictions\n",
    "## repeated signals will be transformed to hold\n",
    "## to be consistent with the fastquant libraries, sell = -1, hold = 0, buy = 1"
   ]
  },
  {
   "cell_type": "code",
   "execution_count": 167,
   "id": "cf76cac2",
   "metadata": {},
   "outputs": [
    {
     "data": {
      "text/plain": [
       "array([ 1,  1,  1, -1, -1, -1, -1, -1, -1, -1, -1, -1, -1, -1,  1, -1, -1,\n",
       "       -1, -1, -1, -1, -1, -1, -1, -1, -1, -1, -1, -1, -1, -1, -1, -1, -1,\n",
       "       -1, -1, -1, -1, -1, -1, -1, -1, -1, -1, -1, -1, -1, -1, -1, -1, -1,\n",
       "       -1, -1, -1, -1, -1, -1, -1,  1, -1, -1, -1, -1,  1, -1, -1, -1, -1,\n",
       "       -1, -1,  1, -1, -1, -1, -1, -1, -1, -1, -1, -1, -1, -1, -1, -1,  1,\n",
       "       -1, -1, -1, -1, -1, -1, -1,  1, -1, -1, -1,  1,  1,  1,  1,  1,  1,\n",
       "        1,  1,  1,  1,  1,  1,  1, -1, -1, -1, -1, -1, -1, -1, -1, -1, -1,\n",
       "       -1, -1, -1, -1, -1, -1, -1, -1, -1, -1, -1, -1, -1, -1, -1, -1, -1,\n",
       "       -1, -1, -1, -1, -1, -1, -1, -1, -1, -1, -1, -1, -1, -1, -1, -1, -1,\n",
       "       -1, -1, -1, -1,  1, -1, -1, -1,  1, -1,  1,  1,  1,  1,  1,  1,  1,\n",
       "       -1, -1, -1, -1, -1, -1, -1, -1, -1, -1, -1, -1, -1, -1, -1, -1, -1,\n",
       "       -1, -1, -1, -1, -1,  1, -1, -1, -1, -1, -1, -1, -1, -1, -1, -1, -1,\n",
       "       -1, -1, -1, -1, -1, -1, -1, -1, -1,  1, -1, -1, -1, -1, -1, -1, -1,\n",
       "        1, -1, -1, -1, -1, -1, -1, -1, -1, -1, -1, -1, -1, -1,  1, -1, -1,\n",
       "       -1,  1, -1, -1, -1, -1, -1, -1, -1, -1, -1, -1, -1, -1, -1, -1, -1,\n",
       "       -1, -1, -1,  1, -1, -1, -1, -1, -1, -1, -1, -1, -1, -1, -1, -1, -1,\n",
       "       -1, -1, -1,  1,  1, -1,  1,  1,  1, -1, -1, -1, -1, -1, -1,  1, -1,\n",
       "       -1, -1, -1, -1, -1, -1, -1, -1, -1, -1, -1, -1, -1, -1],\n",
       "      dtype=int64)"
      ]
     },
     "execution_count": 167,
     "metadata": {},
     "output_type": "execute_result"
    }
   ],
   "source": [
    "pred = np.where(pred == 0,-1, pred) #changing sell signals to -1\n",
    "pred"
   ]
  },
  {
   "cell_type": "code",
   "execution_count": 168,
   "id": "56985133",
   "metadata": {},
   "outputs": [],
   "source": [
    "def add_hold(arr):\n",
    "    last_decision = arr[0]\n",
    "    decision = [last_decision]\n",
    "    for i in range(1,len(arr)):\n",
    "        if arr[i] == last_decision:\n",
    "            decision.append(0)\n",
    "        else:\n",
    "            last_decision = arr[i]\n",
    "            decision.append(last_decision)\n",
    "    return decision"
   ]
  },
  {
   "cell_type": "code",
   "execution_count": 169,
   "id": "6543b9e7",
   "metadata": {},
   "outputs": [],
   "source": [
    "pred2 = add_hold(pred)"
   ]
  },
  {
   "cell_type": "code",
   "execution_count": 170,
   "id": "fad5a555",
   "metadata": {},
   "outputs": [],
   "source": [
    "fastquant_data = df[692:]"
   ]
  },
  {
   "cell_type": "code",
   "execution_count": 171,
   "id": "9e986354",
   "metadata": {},
   "outputs": [],
   "source": [
    "fastquant_data[\"custom\"] = pred2"
   ]
  },
  {
   "cell_type": "markdown",
   "id": "30bf942a",
   "metadata": {},
   "source": [
    "# Pre processing fastquant_data according to the library"
   ]
  },
  {
   "cell_type": "code",
   "execution_count": 172,
   "id": "accc9b5a",
   "metadata": {},
   "outputs": [],
   "source": [
    "#setting the data as indexes \n",
    "fastquant_data[\"dt\"] = fastquant_data[\"Date\"]\n",
    "fastquant_data.drop(\"Date\", axis = 1)\n",
    "fastquant_data.set_index(\"dt\", inplace=True)"
   ]
  },
  {
   "cell_type": "code",
   "execution_count": 173,
   "id": "94a53ba1",
   "metadata": {},
   "outputs": [],
   "source": [
    "#keeping the relevant data\n",
    "fastquant_data = fastquant_data[['Close','Open','Low','High', 'custom']]"
   ]
  },
  {
   "cell_type": "markdown",
   "id": "0fd40075",
   "metadata": {},
   "source": [
    "# Backtesting the strategy"
   ]
  },
  {
   "cell_type": "code",
   "execution_count": 174,
   "id": "4f828a06",
   "metadata": {},
   "outputs": [
    {
     "data": {
      "text/html": [
       "<div>\n",
       "<style scoped>\n",
       "    .dataframe tbody tr th:only-of-type {\n",
       "        vertical-align: middle;\n",
       "    }\n",
       "\n",
       "    .dataframe tbody tr th {\n",
       "        vertical-align: top;\n",
       "    }\n",
       "\n",
       "    .dataframe thead th {\n",
       "        text-align: right;\n",
       "    }\n",
       "</style>\n",
       "<table border=\"1\" class=\"dataframe\">\n",
       "  <thead>\n",
       "    <tr style=\"text-align: right;\">\n",
       "      <th></th>\n",
       "      <th>Close</th>\n",
       "      <th>Open</th>\n",
       "      <th>Low</th>\n",
       "      <th>High</th>\n",
       "      <th>custom</th>\n",
       "    </tr>\n",
       "    <tr>\n",
       "      <th>dt</th>\n",
       "      <th></th>\n",
       "      <th></th>\n",
       "      <th></th>\n",
       "      <th></th>\n",
       "      <th></th>\n",
       "    </tr>\n",
       "  </thead>\n",
       "  <tbody>\n",
       "    <tr>\n",
       "      <th>2019-01-02</th>\n",
       "      <td>23.42</td>\n",
       "      <td>21.95</td>\n",
       "      <td>21.68</td>\n",
       "      <td>23.55</td>\n",
       "      <td>1</td>\n",
       "    </tr>\n",
       "    <tr>\n",
       "      <th>2019-01-03</th>\n",
       "      <td>23.99</td>\n",
       "      <td>23.32</td>\n",
       "      <td>23.16</td>\n",
       "      <td>24.16</td>\n",
       "      <td>0</td>\n",
       "    </tr>\n",
       "    <tr>\n",
       "      <th>2019-01-04</th>\n",
       "      <td>24.06</td>\n",
       "      <td>24.18</td>\n",
       "      <td>23.82</td>\n",
       "      <td>24.27</td>\n",
       "      <td>0</td>\n",
       "    </tr>\n",
       "    <tr>\n",
       "      <th>2019-01-07</th>\n",
       "      <td>24.44</td>\n",
       "      <td>24.18</td>\n",
       "      <td>24.04</td>\n",
       "      <td>25.23</td>\n",
       "      <td>-1</td>\n",
       "    </tr>\n",
       "    <tr>\n",
       "      <th>2019-01-08</th>\n",
       "      <td>24.29</td>\n",
       "      <td>24.72</td>\n",
       "      <td>24.11</td>\n",
       "      <td>24.74</td>\n",
       "      <td>0</td>\n",
       "    </tr>\n",
       "    <tr>\n",
       "      <th>...</th>\n",
       "      <td>...</td>\n",
       "      <td>...</td>\n",
       "      <td>...</td>\n",
       "      <td>...</td>\n",
       "      <td>...</td>\n",
       "    </tr>\n",
       "    <tr>\n",
       "      <th>2020-03-16</th>\n",
       "      <td>13.09</td>\n",
       "      <td>12.91</td>\n",
       "      <td>12.55</td>\n",
       "      <td>14.10</td>\n",
       "      <td>0</td>\n",
       "    </tr>\n",
       "    <tr>\n",
       "      <th>2020-03-17</th>\n",
       "      <td>13.00</td>\n",
       "      <td>13.60</td>\n",
       "      <td>13.00</td>\n",
       "      <td>13.84</td>\n",
       "      <td>0</td>\n",
       "    </tr>\n",
       "    <tr>\n",
       "      <th>2020-03-18</th>\n",
       "      <td>11.29</td>\n",
       "      <td>11.79</td>\n",
       "      <td>10.87</td>\n",
       "      <td>12.29</td>\n",
       "      <td>0</td>\n",
       "    </tr>\n",
       "    <tr>\n",
       "      <th>2020-03-19</th>\n",
       "      <td>12.21</td>\n",
       "      <td>11.07</td>\n",
       "      <td>10.85</td>\n",
       "      <td>13.07</td>\n",
       "      <td>0</td>\n",
       "    </tr>\n",
       "    <tr>\n",
       "      <th>2020-03-20</th>\n",
       "      <td>12.00</td>\n",
       "      <td>13.11</td>\n",
       "      <td>11.83</td>\n",
       "      <td>13.50</td>\n",
       "      <td>0</td>\n",
       "    </tr>\n",
       "  </tbody>\n",
       "</table>\n",
       "<p>303 rows × 5 columns</p>\n",
       "</div>"
      ],
      "text/plain": [
       "            Close   Open    Low   High  custom\n",
       "dt                                            \n",
       "2019-01-02  23.42  21.95  21.68  23.55       1\n",
       "2019-01-03  23.99  23.32  23.16  24.16       0\n",
       "2019-01-04  24.06  24.18  23.82  24.27       0\n",
       "2019-01-07  24.44  24.18  24.04  25.23      -1\n",
       "2019-01-08  24.29  24.72  24.11  24.74       0\n",
       "...           ...    ...    ...    ...     ...\n",
       "2020-03-16  13.09  12.91  12.55  14.10       0\n",
       "2020-03-17  13.00  13.60  13.00  13.84       0\n",
       "2020-03-18  11.29  11.79  10.87  12.29       0\n",
       "2020-03-19  12.21  11.07  10.85  13.07       0\n",
       "2020-03-20  12.00  13.11  11.83  13.50       0\n",
       "\n",
       "[303 rows x 5 columns]"
      ]
     },
     "execution_count": 174,
     "metadata": {},
     "output_type": "execute_result"
    }
   ],
   "source": [
    "fastquant_data"
   ]
  },
  {
   "cell_type": "code",
   "execution_count": 175,
   "id": "96eea902",
   "metadata": {},
   "outputs": [
    {
     "name": "stdout",
     "output_type": "stream",
     "text": [
      "Starting Portfolio Value: 2342.00\n",
      "2020-03-20, ===Global level arguments===\n",
      "2020-03-20, init_cash : 2342\n",
      "2020-03-20, buy_prop : 1\n",
      "2020-03-20, sell_prop : 1\n",
      "2020-03-20, commission : 0.0075\n",
      "2020-03-20, stop_loss : 0\n",
      "2020-03-20, stop_trail : 0\n",
      "===Strategy level arguments===\n",
      "Buy Int:  1\n",
      "Sell Int:  -1\n",
      "2020-03-20, Final Portfolio Value: 3240.2092000000007\n",
      "2020-03-20, Final PnL: 898.21\n",
      "Time used (seconds): 0.09900569915771484\n",
      "==================================================\n",
      "Number of strat runs: 1\n",
      "Number of strats per run: 1\n",
      "Strat names: ['TernaryStrategy']\n",
      "**************************************************\n",
      "--------------------------------------------------\n",
      "Strategy Parameters\tinit_cash:2342\tbuy_prop:1\tsell_prop:1\tcommission:0.0075\tstop_loss:0\tstop_trail:0\texecution_type:close\tchannel:\tsymbol:\tallow_short:False\tshort_max:1.5\tadd_cash_amount:0\tadd_cash_freq:M\tbuy_int:1\tsell_int:-1\tcustom_column:custom\n",
      "Returns\trtot:0.32463263044553003\travg:0.0010713948199522444\trnorm:0.3099533090456241\trnorm100:30.99533090456241\n",
      "Sharpe\tsharperatio:1.1406358098523293\n",
      "Drawdown\tlen:14\tdrawdown:2.5392855055353767\tmoneydown:84.421875\tmax:AutoOrderedDict([('len', 67), ('drawdown', 4.616405332875224), ('moneydown', 128.92480000000023)])\n",
      "Timedraw\tmaxdrawdown:4.616405332875224\tmaxdrawdownperiod:67\n",
      "Optimal parameters:\tinit_cash:2342\tbuy_prop:1\tsell_prop:1\tcommission:0.0075\tstop_loss:0\tstop_trail:0\texecution_type:close\tchannel:\tsymbol:\tallow_short:False\tshort_max:1.5\tadd_cash_amount:0\tadd_cash_freq:M\tbuy_int:1\tsell_int:-1\tcustom_column:custom\n",
      "Optimal metrics:\trtot:0.32463263044553003\travg:0.0010713948199522444\trnorm:0.3099533090456241\trnorm100:30.99533090456241\tlen:14\tdrawdown:2.5392855055353767\tmoneydown:84.421875\tmax:AutoOrderedDict([('len', 67), ('drawdown', 4.616405332875224), ('moneydown', 128.92480000000023)])\tmaxdrawdown:4.616405332875224\tmaxdrawdownperiod:67\tsharperatio:1.1406358098523293\tpnl:898.21\tfinal_value:3240.2092000000007\n"
     ]
    },
    {
     "ename": "ImportError",
     "evalue": "cannot import name 'warnings' from 'matplotlib.dates' (c:\\users\\frede\\appdata\\local\\programs\\python\\python39\\lib\\site-packages\\matplotlib\\dates.py)",
     "output_type": "error",
     "traceback": [
      "\u001b[1;31m---------------------------------------------------------------------------\u001b[0m",
      "\u001b[1;31mImportError\u001b[0m                               Traceback (most recent call last)",
      "\u001b[1;32m<ipython-input-175-485649f97b82>\u001b[0m in \u001b[0;36m<module>\u001b[1;34m\u001b[0m\n\u001b[1;32m----> 1\u001b[1;33m \u001b[0mbacktest\u001b[0m\u001b[1;33m(\u001b[0m\u001b[0mTernaryStrategy\u001b[0m\u001b[1;33m,\u001b[0m\u001b[0mfastquant_data\u001b[0m\u001b[1;33m,\u001b[0m \u001b[0minit_cash\u001b[0m \u001b[1;33m=\u001b[0m \u001b[1;36m2342\u001b[0m\u001b[1;33m)\u001b[0m\u001b[1;33m\u001b[0m\u001b[1;33m\u001b[0m\u001b[0m\n\u001b[0m",
      "\u001b[1;32mc:\\users\\frede\\appdata\\local\\programs\\python\\python39\\lib\\site-packages\\fastquant\\backtest\\backtest.py\u001b[0m in \u001b[0;36mbacktest\u001b[1;34m(strategy, data, commission, init_cash, plot, verbose, sort_by, sentiments, strats, return_history, return_plot, channel, symbol, allow_short, short_max, figsize, data_class, data_kwargs, plot_kwargs, fig, **kwargs)\u001b[0m\n\u001b[0;32m    240\u001b[0m             )\n\u001b[0;32m    241\u001b[0m         \u001b[1;32melse\u001b[0m\u001b[1;33m:\u001b[0m\u001b[1;33m\u001b[0m\u001b[1;33m\u001b[0m\u001b[0m\n\u001b[1;32m--> 242\u001b[1;33m             \u001b[0mfig\u001b[0m \u001b[1;33m=\u001b[0m \u001b[0mplot_results\u001b[0m\u001b[1;33m(\u001b[0m\u001b[0mcerebro\u001b[0m\u001b[1;33m,\u001b[0m \u001b[0mdata_format_dict\u001b[0m\u001b[1;33m,\u001b[0m \u001b[0mfigsize\u001b[0m\u001b[1;33m,\u001b[0m \u001b[1;33m**\u001b[0m\u001b[0mplot_kwargs\u001b[0m\u001b[1;33m)\u001b[0m\u001b[1;33m\u001b[0m\u001b[1;33m\u001b[0m\u001b[0m\n\u001b[0m\u001b[0;32m    243\u001b[0m \u001b[1;33m\u001b[0m\u001b[0m\n\u001b[0;32m    244\u001b[0m     \u001b[1;32mif\u001b[0m \u001b[0mreturn_history\u001b[0m \u001b[1;32mand\u001b[0m \u001b[0mreturn_plot\u001b[0m\u001b[1;33m:\u001b[0m\u001b[1;33m\u001b[0m\u001b[1;33m\u001b[0m\u001b[0m\n",
      "\u001b[1;32mc:\\users\\frede\\appdata\\local\\programs\\python\\python39\\lib\\site-packages\\fastquant\\backtest\\post_backtest.py\u001b[0m in \u001b[0;36mplot_results\u001b[1;34m(cerebro, data_format_dict, figsize, **plot_kwargs)\u001b[0m\n\u001b[0;32m    226\u001b[0m     \u001b[0mplt\u001b[0m\u001b[1;33m.\u001b[0m\u001b[0mrcParams\u001b[0m\u001b[1;33m[\u001b[0m\u001b[1;34m\"figure.figsize\"\u001b[0m\u001b[1;33m]\u001b[0m \u001b[1;33m=\u001b[0m \u001b[0mfigsize\u001b[0m\u001b[1;33m\u001b[0m\u001b[1;33m\u001b[0m\u001b[0m\n\u001b[0;32m    227\u001b[0m \u001b[1;33m\u001b[0m\u001b[0m\n\u001b[1;32m--> 228\u001b[1;33m     \u001b[0mfig\u001b[0m \u001b[1;33m=\u001b[0m \u001b[0mcerebro\u001b[0m\u001b[1;33m.\u001b[0m\u001b[0mplot\u001b[0m\u001b[1;33m(\u001b[0m\u001b[0mvolume\u001b[0m\u001b[1;33m=\u001b[0m\u001b[0mhas_volume\u001b[0m\u001b[1;33m,\u001b[0m \u001b[0miplot\u001b[0m\u001b[1;33m=\u001b[0m\u001b[0miplot\u001b[0m\u001b[1;33m,\u001b[0m \u001b[1;33m**\u001b[0m\u001b[0mplot_kwargs\u001b[0m\u001b[1;33m)\u001b[0m\u001b[1;33m\u001b[0m\u001b[1;33m\u001b[0m\u001b[0m\n\u001b[0m\u001b[0;32m    229\u001b[0m \u001b[1;33m\u001b[0m\u001b[0m\n\u001b[0;32m    230\u001b[0m     \u001b[1;32mreturn\u001b[0m \u001b[0mfig\u001b[0m\u001b[1;33m[\u001b[0m\u001b[1;36m0\u001b[0m\u001b[1;33m]\u001b[0m\u001b[1;33m[\u001b[0m\u001b[1;36m0\u001b[0m\u001b[1;33m]\u001b[0m\u001b[1;33m\u001b[0m\u001b[1;33m\u001b[0m\u001b[0m\n",
      "\u001b[1;32mc:\\users\\frede\\appdata\\local\\programs\\python\\python39\\lib\\site-packages\\backtrader\\cerebro.py\u001b[0m in \u001b[0;36mplot\u001b[1;34m(self, plotter, numfigs, iplot, start, end, width, height, dpi, tight, use, **kwargs)\u001b[0m\n\u001b[0;32m    972\u001b[0m \u001b[1;33m\u001b[0m\u001b[0m\n\u001b[0;32m    973\u001b[0m         \u001b[1;32mif\u001b[0m \u001b[1;32mnot\u001b[0m \u001b[0mplotter\u001b[0m\u001b[1;33m:\u001b[0m\u001b[1;33m\u001b[0m\u001b[1;33m\u001b[0m\u001b[0m\n\u001b[1;32m--> 974\u001b[1;33m             \u001b[1;32mfrom\u001b[0m \u001b[1;33m.\u001b[0m \u001b[1;32mimport\u001b[0m \u001b[0mplot\u001b[0m\u001b[1;33m\u001b[0m\u001b[1;33m\u001b[0m\u001b[0m\n\u001b[0m\u001b[0;32m    975\u001b[0m             \u001b[1;32mif\u001b[0m \u001b[0mself\u001b[0m\u001b[1;33m.\u001b[0m\u001b[0mp\u001b[0m\u001b[1;33m.\u001b[0m\u001b[0moldsync\u001b[0m\u001b[1;33m:\u001b[0m\u001b[1;33m\u001b[0m\u001b[1;33m\u001b[0m\u001b[0m\n\u001b[0;32m    976\u001b[0m                 \u001b[0mplotter\u001b[0m \u001b[1;33m=\u001b[0m \u001b[0mplot\u001b[0m\u001b[1;33m.\u001b[0m\u001b[0mPlot_OldSync\u001b[0m\u001b[1;33m(\u001b[0m\u001b[1;33m**\u001b[0m\u001b[0mkwargs\u001b[0m\u001b[1;33m)\u001b[0m\u001b[1;33m\u001b[0m\u001b[1;33m\u001b[0m\u001b[0m\n",
      "\u001b[1;32mc:\\users\\frede\\appdata\\local\\programs\\python\\python39\\lib\\site-packages\\backtrader\\plot\\__init__.py\u001b[0m in \u001b[0;36m<module>\u001b[1;34m\u001b[0m\n\u001b[0;32m     40\u001b[0m \u001b[1;33m\u001b[0m\u001b[0m\n\u001b[0;32m     41\u001b[0m \u001b[1;33m\u001b[0m\u001b[0m\n\u001b[1;32m---> 42\u001b[1;33m \u001b[1;32mfrom\u001b[0m \u001b[1;33m.\u001b[0m\u001b[0mplot\u001b[0m \u001b[1;32mimport\u001b[0m \u001b[0mPlot\u001b[0m\u001b[1;33m,\u001b[0m \u001b[0mPlot_OldSync\u001b[0m\u001b[1;33m\u001b[0m\u001b[1;33m\u001b[0m\u001b[0m\n\u001b[0m\u001b[0;32m     43\u001b[0m \u001b[1;32mfrom\u001b[0m \u001b[1;33m.\u001b[0m\u001b[0mscheme\u001b[0m \u001b[1;32mimport\u001b[0m \u001b[0mPlotScheme\u001b[0m\u001b[1;33m\u001b[0m\u001b[1;33m\u001b[0m\u001b[0m\n",
      "\u001b[1;32mc:\\users\\frede\\appdata\\local\\programs\\python\\python39\\lib\\site-packages\\backtrader\\plot\\plot.py\u001b[0m in \u001b[0;36m<module>\u001b[1;34m\u001b[0m\n\u001b[0;32m     42\u001b[0m \u001b[1;32mfrom\u001b[0m \u001b[1;33m.\u001b[0m\u001b[0mfinance\u001b[0m \u001b[1;32mimport\u001b[0m \u001b[0mplot_candlestick\u001b[0m\u001b[1;33m,\u001b[0m \u001b[0mplot_ohlc\u001b[0m\u001b[1;33m,\u001b[0m \u001b[0mplot_volume\u001b[0m\u001b[1;33m,\u001b[0m \u001b[0mplot_lineonclose\u001b[0m\u001b[1;33m\u001b[0m\u001b[1;33m\u001b[0m\u001b[0m\n\u001b[0;32m     43\u001b[0m \u001b[1;32mfrom\u001b[0m \u001b[1;33m.\u001b[0m\u001b[0mformatters\u001b[0m \u001b[1;32mimport\u001b[0m \u001b[1;33m(\u001b[0m\u001b[0mMyVolFormatter\u001b[0m\u001b[1;33m,\u001b[0m \u001b[0mMyDateFormatter\u001b[0m\u001b[1;33m,\u001b[0m \u001b[0mgetlocator\u001b[0m\u001b[1;33m)\u001b[0m\u001b[1;33m\u001b[0m\u001b[1;33m\u001b[0m\u001b[0m\n\u001b[1;32m---> 44\u001b[1;33m \u001b[1;32mfrom\u001b[0m \u001b[1;33m.\u001b[0m \u001b[1;32mimport\u001b[0m \u001b[0mlocator\u001b[0m \u001b[1;32mas\u001b[0m \u001b[0mloc\u001b[0m\u001b[1;33m\u001b[0m\u001b[1;33m\u001b[0m\u001b[0m\n\u001b[0m\u001b[0;32m     45\u001b[0m \u001b[1;32mfrom\u001b[0m \u001b[1;33m.\u001b[0m\u001b[0mmulticursor\u001b[0m \u001b[1;32mimport\u001b[0m \u001b[0mMultiCursor\u001b[0m\u001b[1;33m\u001b[0m\u001b[1;33m\u001b[0m\u001b[0m\n\u001b[0;32m     46\u001b[0m \u001b[1;32mfrom\u001b[0m \u001b[1;33m.\u001b[0m\u001b[0mscheme\u001b[0m \u001b[1;32mimport\u001b[0m \u001b[0mPlotScheme\u001b[0m\u001b[1;33m\u001b[0m\u001b[1;33m\u001b[0m\u001b[0m\n",
      "\u001b[1;32mc:\\users\\frede\\appdata\\local\\programs\\python\\python39\\lib\\site-packages\\backtrader\\plot\\locator.py\u001b[0m in \u001b[0;36m<module>\u001b[1;34m\u001b[0m\n\u001b[0;32m     33\u001b[0m \u001b[1;32mfrom\u001b[0m \u001b[0mmatplotlib\u001b[0m\u001b[1;33m.\u001b[0m\u001b[0mdates\u001b[0m \u001b[1;32mimport\u001b[0m \u001b[0mAutoDateFormatter\u001b[0m \u001b[1;32mas\u001b[0m \u001b[0mADFormatter\u001b[0m\u001b[1;33m\u001b[0m\u001b[1;33m\u001b[0m\u001b[0m\n\u001b[0;32m     34\u001b[0m \u001b[1;33m\u001b[0m\u001b[0m\n\u001b[1;32m---> 35\u001b[1;33m from matplotlib.dates import (HOURS_PER_DAY, MIN_PER_HOUR, SEC_PER_MIN,\n\u001b[0m\u001b[0;32m     36\u001b[0m                               \u001b[0mMONTHS_PER_YEAR\u001b[0m\u001b[1;33m,\u001b[0m \u001b[0mDAYS_PER_WEEK\u001b[0m\u001b[1;33m,\u001b[0m\u001b[1;33m\u001b[0m\u001b[1;33m\u001b[0m\u001b[0m\n\u001b[0;32m     37\u001b[0m                               \u001b[0mSEC_PER_HOUR\u001b[0m\u001b[1;33m,\u001b[0m \u001b[0mSEC_PER_DAY\u001b[0m\u001b[1;33m,\u001b[0m\u001b[1;33m\u001b[0m\u001b[1;33m\u001b[0m\u001b[0m\n",
      "\u001b[1;31mImportError\u001b[0m: cannot import name 'warnings' from 'matplotlib.dates' (c:\\users\\frede\\appdata\\local\\programs\\python\\python39\\lib\\site-packages\\matplotlib\\dates.py)"
     ]
    }
   ],
   "source": [
    "backtest(TernaryStrategy,fastquant_data, init_cash = 2342)"
   ]
  }
 ],
 "metadata": {
  "kernelspec": {
   "display_name": "Python 3",
   "language": "python",
   "name": "python3"
  },
  "language_info": {
   "codemirror_mode": {
    "name": "ipython",
    "version": 3
   },
   "file_extension": ".py",
   "mimetype": "text/x-python",
   "name": "python",
   "nbconvert_exporter": "python",
   "pygments_lexer": "ipython3",
   "version": "3.9.5"
  }
 },
 "nbformat": 4,
 "nbformat_minor": 5
}
