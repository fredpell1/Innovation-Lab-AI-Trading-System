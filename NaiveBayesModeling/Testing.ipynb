{
 "cells": [
  {
   "cell_type": "markdown",
   "id": "0bd7e39c",
   "metadata": {},
   "source": [
    "# Importing libraries"
   ]
  },
  {
   "cell_type": "code",
   "execution_count": 29,
   "id": "6ce94427",
   "metadata": {},
   "outputs": [],
   "source": [
    "import pandas as pd\n",
    "import numpy as np\n",
    "from sklearn.naive_bayes import ComplementNB\n",
    "from sklearn.naive_bayes import MultinomialNB\n",
    "from sklearn.model_selection import train_test_split\n",
    "from sklearn.metrics import confusion_matrix, f1_score\n",
    "from sklearn.metrics import balanced_accuracy_score\n",
    "\n",
    "from fastquant import backtest, get_stock_data\n",
    "from fastquant.strategies import TernaryStrategy\n",
    "import matplotlib.pyplot as plt\n"
   ]
  },
  {
   "cell_type": "code",
   "execution_count": null,
   "id": "796ce34d",
   "metadata": {},
   "outputs": [],
   "source": []
  },
  {
   "cell_type": "markdown",
   "id": "8f09eab5",
   "metadata": {},
   "source": [
    "# Importing data and last cleanup"
   ]
  },
  {
   "cell_type": "code",
   "execution_count": 30,
   "id": "04bd76d8",
   "metadata": {
    "scrolled": false
   },
   "outputs": [
    {
     "data": {
      "text/html": [
       "<div>\n",
       "<style scoped>\n",
       "    .dataframe tbody tr th:only-of-type {\n",
       "        vertical-align: middle;\n",
       "    }\n",
       "\n",
       "    .dataframe tbody tr th {\n",
       "        vertical-align: top;\n",
       "    }\n",
       "\n",
       "    .dataframe thead th {\n",
       "        text-align: right;\n",
       "    }\n",
       "</style>\n",
       "<table border=\"1\" class=\"dataframe\">\n",
       "  <thead>\n",
       "    <tr style=\"text-align: right;\">\n",
       "      <th></th>\n",
       "      <th>Date</th>\n",
       "      <th>Close</th>\n",
       "      <th>Var. (%)</th>\n",
       "      <th>Open</th>\n",
       "      <th>Low</th>\n",
       "      <th>High</th>\n",
       "      <th>Volume</th>\n",
       "      <th>Support</th>\n",
       "      <th>Resistance</th>\n",
       "      <th>Hammer</th>\n",
       "      <th>...</th>\n",
       "      <th>MACD LINE</th>\n",
       "      <th>SIGNAL LINE</th>\n",
       "      <th>HISTOGRAM</th>\n",
       "      <th>ZeroCross</th>\n",
       "      <th>SignalCross</th>\n",
       "      <th>Decision14</th>\n",
       "      <th>Decision28</th>\n",
       "      <th>Decision10</th>\n",
       "      <th>Decision50</th>\n",
       "      <th>Decision5</th>\n",
       "    </tr>\n",
       "  </thead>\n",
       "  <tbody>\n",
       "    <tr>\n",
       "      <th>0</th>\n",
       "      <td>2016-01-26</td>\n",
       "      <td>4.20</td>\n",
       "      <td>-4.76</td>\n",
       "      <td>4.23</td>\n",
       "      <td>4.12</td>\n",
       "      <td>4.31</td>\n",
       "      <td>302,717,532</td>\n",
       "      <td>0</td>\n",
       "      <td>0</td>\n",
       "      <td>0.0</td>\n",
       "      <td>...</td>\n",
       "      <td>0.000000</td>\n",
       "      <td>0.000000</td>\n",
       "      <td>0.000000</td>\n",
       "      <td>NaN</td>\n",
       "      <td>NaN</td>\n",
       "      <td>-1</td>\n",
       "      <td>-1</td>\n",
       "      <td>-1</td>\n",
       "      <td>-1</td>\n",
       "      <td>-1</td>\n",
       "    </tr>\n",
       "    <tr>\n",
       "      <th>1</th>\n",
       "      <td>2016-01-27</td>\n",
       "      <td>4.57</td>\n",
       "      <td>8.81</td>\n",
       "      <td>4.22</td>\n",
       "      <td>4.16</td>\n",
       "      <td>4.64</td>\n",
       "      <td>352,368,579</td>\n",
       "      <td>0</td>\n",
       "      <td>0</td>\n",
       "      <td>0.0</td>\n",
       "      <td>...</td>\n",
       "      <td>0.000000</td>\n",
       "      <td>0.000000</td>\n",
       "      <td>0.000000</td>\n",
       "      <td>NaN</td>\n",
       "      <td>NaN</td>\n",
       "      <td>-1</td>\n",
       "      <td>-1</td>\n",
       "      <td>-1</td>\n",
       "      <td>-1</td>\n",
       "      <td>-1</td>\n",
       "    </tr>\n",
       "    <tr>\n",
       "      <th>2</th>\n",
       "      <td>2016-01-28</td>\n",
       "      <td>4.60</td>\n",
       "      <td>0.66</td>\n",
       "      <td>4.67</td>\n",
       "      <td>4.35</td>\n",
       "      <td>5.13</td>\n",
       "      <td>618,332,894</td>\n",
       "      <td>0</td>\n",
       "      <td>0</td>\n",
       "      <td>0.0</td>\n",
       "      <td>...</td>\n",
       "      <td>0.000000</td>\n",
       "      <td>0.000000</td>\n",
       "      <td>0.000000</td>\n",
       "      <td>NaN</td>\n",
       "      <td>NaN</td>\n",
       "      <td>-1</td>\n",
       "      <td>-1</td>\n",
       "      <td>-1</td>\n",
       "      <td>-1</td>\n",
       "      <td>-1</td>\n",
       "    </tr>\n",
       "    <tr>\n",
       "      <th>3</th>\n",
       "      <td>2016-01-29</td>\n",
       "      <td>4.84</td>\n",
       "      <td>5.22</td>\n",
       "      <td>4.70</td>\n",
       "      <td>4.52</td>\n",
       "      <td>4.86</td>\n",
       "      <td>439,826,229</td>\n",
       "      <td>0</td>\n",
       "      <td>0</td>\n",
       "      <td>0.0</td>\n",
       "      <td>...</td>\n",
       "      <td>0.000000</td>\n",
       "      <td>0.000000</td>\n",
       "      <td>0.000000</td>\n",
       "      <td>NaN</td>\n",
       "      <td>NaN</td>\n",
       "      <td>-1</td>\n",
       "      <td>-1</td>\n",
       "      <td>-1</td>\n",
       "      <td>-1</td>\n",
       "      <td>-1</td>\n",
       "    </tr>\n",
       "    <tr>\n",
       "      <th>4</th>\n",
       "      <td>2016-02-01</td>\n",
       "      <td>4.72</td>\n",
       "      <td>-2.48</td>\n",
       "      <td>4.74</td>\n",
       "      <td>4.66</td>\n",
       "      <td>4.86</td>\n",
       "      <td>245,882,432</td>\n",
       "      <td>0</td>\n",
       "      <td>0</td>\n",
       "      <td>0.0</td>\n",
       "      <td>...</td>\n",
       "      <td>0.000000</td>\n",
       "      <td>0.000000</td>\n",
       "      <td>0.000000</td>\n",
       "      <td>NaN</td>\n",
       "      <td>NaN</td>\n",
       "      <td>-1</td>\n",
       "      <td>-1</td>\n",
       "      <td>-1</td>\n",
       "      <td>-1</td>\n",
       "      <td>-1</td>\n",
       "    </tr>\n",
       "    <tr>\n",
       "      <th>...</th>\n",
       "      <td>...</td>\n",
       "      <td>...</td>\n",
       "      <td>...</td>\n",
       "      <td>...</td>\n",
       "      <td>...</td>\n",
       "      <td>...</td>\n",
       "      <td>...</td>\n",
       "      <td>...</td>\n",
       "      <td>...</td>\n",
       "      <td>...</td>\n",
       "      <td>...</td>\n",
       "      <td>...</td>\n",
       "      <td>...</td>\n",
       "      <td>...</td>\n",
       "      <td>...</td>\n",
       "      <td>...</td>\n",
       "      <td>...</td>\n",
       "      <td>...</td>\n",
       "      <td>...</td>\n",
       "      <td>...</td>\n",
       "      <td>...</td>\n",
       "    </tr>\n",
       "    <tr>\n",
       "      <th>1037</th>\n",
       "      <td>2020-04-03</td>\n",
       "      <td>15.34</td>\n",
       "      <td>-1.10%</td>\n",
       "      <td>16.30</td>\n",
       "      <td>14.93</td>\n",
       "      <td>16.36</td>\n",
       "      <td>142,01M</td>\n",
       "      <td>0</td>\n",
       "      <td>0</td>\n",
       "      <td>0.0</td>\n",
       "      <td>...</td>\n",
       "      <td>-2.297545</td>\n",
       "      <td>-3.066222</td>\n",
       "      <td>0.768677</td>\n",
       "      <td>0.0</td>\n",
       "      <td>1.0</td>\n",
       "      <td>-1</td>\n",
       "      <td>-1</td>\n",
       "      <td>-1</td>\n",
       "      <td>-1</td>\n",
       "      <td>-1</td>\n",
       "    </tr>\n",
       "    <tr>\n",
       "      <th>1038</th>\n",
       "      <td>2020-04-06</td>\n",
       "      <td>15.77</td>\n",
       "      <td>2.80%</td>\n",
       "      <td>16.05</td>\n",
       "      <td>15.18</td>\n",
       "      <td>16.10</td>\n",
       "      <td>122,54M</td>\n",
       "      <td>0</td>\n",
       "      <td>0</td>\n",
       "      <td>0.0</td>\n",
       "      <td>...</td>\n",
       "      <td>-2.031713</td>\n",
       "      <td>-2.859320</td>\n",
       "      <td>0.827607</td>\n",
       "      <td>0.0</td>\n",
       "      <td>1.0</td>\n",
       "      <td>-1</td>\n",
       "      <td>-1</td>\n",
       "      <td>-1</td>\n",
       "      <td>-1</td>\n",
       "      <td>-1</td>\n",
       "    </tr>\n",
       "    <tr>\n",
       "      <th>1039</th>\n",
       "      <td>2020-04-07</td>\n",
       "      <td>16.40</td>\n",
       "      <td>3.99%</td>\n",
       "      <td>16.61</td>\n",
       "      <td>16.34</td>\n",
       "      <td>17.07</td>\n",
       "      <td>139,72M</td>\n",
       "      <td>0</td>\n",
       "      <td>0</td>\n",
       "      <td>0.0</td>\n",
       "      <td>...</td>\n",
       "      <td>-1.750030</td>\n",
       "      <td>-2.637462</td>\n",
       "      <td>0.887432</td>\n",
       "      <td>0.0</td>\n",
       "      <td>1.0</td>\n",
       "      <td>-1</td>\n",
       "      <td>-1</td>\n",
       "      <td>-1</td>\n",
       "      <td>-1</td>\n",
       "      <td>-1</td>\n",
       "    </tr>\n",
       "    <tr>\n",
       "      <th>1040</th>\n",
       "      <td>2020-04-08</td>\n",
       "      <td>17.32</td>\n",
       "      <td>5.61%</td>\n",
       "      <td>16.50</td>\n",
       "      <td>16.40</td>\n",
       "      <td>17.53</td>\n",
       "      <td>114,58M</td>\n",
       "      <td>0</td>\n",
       "      <td>0</td>\n",
       "      <td>0.0</td>\n",
       "      <td>...</td>\n",
       "      <td>-1.436005</td>\n",
       "      <td>-2.397171</td>\n",
       "      <td>0.961166</td>\n",
       "      <td>0.0</td>\n",
       "      <td>1.0</td>\n",
       "      <td>-1</td>\n",
       "      <td>-1</td>\n",
       "      <td>-1</td>\n",
       "      <td>-1</td>\n",
       "      <td>-1</td>\n",
       "    </tr>\n",
       "    <tr>\n",
       "      <th>1041</th>\n",
       "      <td>2020-04-09</td>\n",
       "      <td>16.82</td>\n",
       "      <td>-2.89%</td>\n",
       "      <td>17.94</td>\n",
       "      <td>16.50</td>\n",
       "      <td>18.69</td>\n",
       "      <td>184,87M</td>\n",
       "      <td>0</td>\n",
       "      <td>0</td>\n",
       "      <td>0.0</td>\n",
       "      <td>...</td>\n",
       "      <td>-1.213495</td>\n",
       "      <td>-2.160436</td>\n",
       "      <td>0.946941</td>\n",
       "      <td>0.0</td>\n",
       "      <td>1.0</td>\n",
       "      <td>-1</td>\n",
       "      <td>-1</td>\n",
       "      <td>-1</td>\n",
       "      <td>-1</td>\n",
       "      <td>-1</td>\n",
       "    </tr>\n",
       "  </tbody>\n",
       "</table>\n",
       "<p>1042 rows × 24 columns</p>\n",
       "</div>"
      ],
      "text/plain": [
       "            Date  Close Var. (%)   Open    Low   High       Volume  Support  \\\n",
       "0     2016-01-26   4.20    -4.76   4.23   4.12   4.31  302,717,532        0   \n",
       "1     2016-01-27   4.57     8.81   4.22   4.16   4.64  352,368,579        0   \n",
       "2     2016-01-28   4.60     0.66   4.67   4.35   5.13  618,332,894        0   \n",
       "3     2016-01-29   4.84     5.22   4.70   4.52   4.86  439,826,229        0   \n",
       "4     2016-02-01   4.72    -2.48   4.74   4.66   4.86  245,882,432        0   \n",
       "...          ...    ...      ...    ...    ...    ...          ...      ...   \n",
       "1037  2020-04-03  15.34   -1.10%  16.30  14.93  16.36      142,01M        0   \n",
       "1038  2020-04-06  15.77    2.80%  16.05  15.18  16.10      122,54M        0   \n",
       "1039  2020-04-07  16.40    3.99%  16.61  16.34  17.07      139,72M        0   \n",
       "1040  2020-04-08  17.32    5.61%  16.50  16.40  17.53      114,58M        0   \n",
       "1041  2020-04-09  16.82   -2.89%  17.94  16.50  18.69      184,87M        0   \n",
       "\n",
       "      Resistance  Hammer  ...  MACD LINE  SIGNAL LINE  HISTOGRAM  ZeroCross  \\\n",
       "0              0     0.0  ...   0.000000     0.000000   0.000000        NaN   \n",
       "1              0     0.0  ...   0.000000     0.000000   0.000000        NaN   \n",
       "2              0     0.0  ...   0.000000     0.000000   0.000000        NaN   \n",
       "3              0     0.0  ...   0.000000     0.000000   0.000000        NaN   \n",
       "4              0     0.0  ...   0.000000     0.000000   0.000000        NaN   \n",
       "...          ...     ...  ...        ...          ...        ...        ...   \n",
       "1037           0     0.0  ...  -2.297545    -3.066222   0.768677        0.0   \n",
       "1038           0     0.0  ...  -2.031713    -2.859320   0.827607        0.0   \n",
       "1039           0     0.0  ...  -1.750030    -2.637462   0.887432        0.0   \n",
       "1040           0     0.0  ...  -1.436005    -2.397171   0.961166        0.0   \n",
       "1041           0     0.0  ...  -1.213495    -2.160436   0.946941        0.0   \n",
       "\n",
       "      SignalCross  Decision14  Decision28  Decision10  Decision50  Decision5  \n",
       "0             NaN          -1          -1          -1          -1         -1  \n",
       "1             NaN          -1          -1          -1          -1         -1  \n",
       "2             NaN          -1          -1          -1          -1         -1  \n",
       "3             NaN          -1          -1          -1          -1         -1  \n",
       "4             NaN          -1          -1          -1          -1         -1  \n",
       "...           ...         ...         ...         ...         ...        ...  \n",
       "1037          1.0          -1          -1          -1          -1         -1  \n",
       "1038          1.0          -1          -1          -1          -1         -1  \n",
       "1039          1.0          -1          -1          -1          -1         -1  \n",
       "1040          1.0          -1          -1          -1          -1         -1  \n",
       "1041          1.0          -1          -1          -1          -1         -1  \n",
       "\n",
       "[1042 rows x 24 columns]"
      ]
     },
     "execution_count": 30,
     "metadata": {},
     "output_type": "execute_result"
    }
   ],
   "source": [
    "df = pd.read_csv(\"cleaned_data.csv\")\n",
    "df"
   ]
  },
  {
   "cell_type": "code",
   "execution_count": null,
   "id": "bc2f6950",
   "metadata": {},
   "outputs": [],
   "source": []
  },
  {
   "cell_type": "code",
   "execution_count": 31,
   "id": "8af2df8f",
   "metadata": {},
   "outputs": [],
   "source": [
    "def feature_decision_selection(df,features, decision):\n",
    "    \"\"\"Reorganizing the dataset with the features first and the decision at the last column\n",
    "    df = dataset\n",
    "    features = input to the model\n",
    "    decision = target value \n",
    "    \"\"\"\n",
    "    df2 = df.loc[df[decision] != -1] #removing the data where decisions are missing\n",
    "    df2 = df2[features + [decision]]\n",
    "    return df2"
   ]
  },
  {
   "cell_type": "code",
   "execution_count": 32,
   "id": "d6d29a0f",
   "metadata": {},
   "outputs": [],
   "source": [
    "dataframes = [] #will contain all different datasets\n",
    "features = ['Date','Close', 'Open', 'Low', 'High','Support', 'Resistance','Hammer', 'ZeroCross', 'SignalCross'] #removing WilliamR\n",
    "decisions = ['Decision5', 'Decision10','Decision14', 'Decision28', 'Decision50']\n",
    "for decision in decisions:\n",
    "    dataframes.append(feature_decision_selection(df,features,decision))"
   ]
  },
  {
   "cell_type": "code",
   "execution_count": null,
   "id": "07f697e2",
   "metadata": {},
   "outputs": [],
   "source": []
  },
  {
   "cell_type": "markdown",
   "id": "abde46a6",
   "metadata": {},
   "source": [
    "# Splitting the data"
   ]
  },
  {
   "cell_type": "code",
   "execution_count": 33,
   "id": "34f3722d",
   "metadata": {},
   "outputs": [],
   "source": [
    "def data_split(dataframes):\n",
    "    \"\"\" split the dataframe in dataframes in testing and training set\n",
    "        \n",
    "        dataframes = array of dataframe\n",
    "    \"\"\"\n",
    "    split_data = []\n",
    "    for df in dataframes:\n",
    "        train = df[0:692] #from 2016 to 2018\n",
    "        test = df[692:] #from 2019 to 2020\n",
    "        x_train = train.iloc[:,5:-1].to_numpy() #excluding the date column and ohlc columns \n",
    "        x_test = test.iloc[:,5:-1].to_numpy()\n",
    "        y_train = train.iloc[:,-1].to_numpy()\n",
    "        y_test = test.iloc[:,-1].to_numpy()\n",
    "        split_data.append([x_train,x_test,y_train,y_test])\n",
    "\n",
    "    return split_data"
   ]
  },
  {
   "cell_type": "code",
   "execution_count": 34,
   "id": "6a8c1984",
   "metadata": {},
   "outputs": [],
   "source": [
    "model_data = data_split(dataframes)"
   ]
  },
  {
   "cell_type": "code",
   "execution_count": null,
   "id": "bf1af18a",
   "metadata": {},
   "outputs": [],
   "source": []
  },
  {
   "cell_type": "markdown",
   "id": "30b1a339",
   "metadata": {},
   "source": [
    "# Getting the predictions"
   ]
  },
  {
   "cell_type": "code",
   "execution_count": 35,
   "id": "5ff2b6e1",
   "metadata": {},
   "outputs": [],
   "source": [
    "def predictors(data,model):\n",
    "    \"\"\"train and test the model on the data\n",
    "    \n",
    "        data = testing and training data\n",
    "        model = model used\n",
    "    \"\"\"\n",
    "    predictions = []\n",
    "    for d in data:\n",
    "        x_train = d[0]\n",
    "        x_test = d[1]\n",
    "        y_train = d[2]\n",
    "        y_test = d[3]\n",
    "        model.fit(x_train,y_train)\n",
    "        pred = model.predict(x_test)\n",
    "        predictions.append([pred,balanced_accuracy_score(y_test,pred) , confusion_matrix(y_test,pred)])\n",
    "        \n",
    "    return predictions"
   ]
  },
  {
   "cell_type": "code",
   "execution_count": 36,
   "id": "278bc950",
   "metadata": {},
   "outputs": [],
   "source": [
    "prediction_info = predictors(model_data, ComplementNB()) #look at index 0 of each array for predictions"
   ]
  },
  {
   "cell_type": "markdown",
   "id": "e593a1ef",
   "metadata": {},
   "source": [
    "# Adding hold to the predictions\n",
    "## repeated signals will be transformed to hold\n",
    "## to be consistent with the fastquant libraries, sell = -1, hold = 0, buy = 1"
   ]
  },
  {
   "cell_type": "code",
   "execution_count": 37,
   "id": "e54dfe47",
   "metadata": {},
   "outputs": [],
   "source": [
    "def sell_transform(data):\n",
    "    for i in range(len(data)):\n",
    "        data[i][0] = np.where(data[i][0] == 0, -1, data[i][0])"
   ]
  },
  {
   "cell_type": "code",
   "execution_count": 38,
   "id": "64649a8d",
   "metadata": {},
   "outputs": [],
   "source": [
    "sell_transform(prediction_info)"
   ]
  },
  {
   "cell_type": "code",
   "execution_count": 39,
   "id": "56985133",
   "metadata": {},
   "outputs": [],
   "source": [
    "def add_hold(arr):\n",
    "    last_decision = arr[0]\n",
    "    decision = [last_decision]\n",
    "    for i in range(1,len(arr)):\n",
    "        if arr[i] == last_decision:\n",
    "            decision.append(0)\n",
    "        else:\n",
    "            last_decision = arr[i]\n",
    "            decision.append(last_decision)\n",
    "    return decision"
   ]
  },
  {
   "cell_type": "code",
   "execution_count": 40,
   "id": "6543b9e7",
   "metadata": {},
   "outputs": [],
   "source": [
    "def final_decision(data):\n",
    "    for d in data:\n",
    "        d[0] = add_hold(d[0])"
   ]
  },
  {
   "cell_type": "code",
   "execution_count": 41,
   "id": "33d77316",
   "metadata": {},
   "outputs": [],
   "source": [
    "final_decision(prediction_info)"
   ]
  },
  {
   "cell_type": "markdown",
   "id": "30bf942a",
   "metadata": {},
   "source": [
    "# Pre processing the data according to fastquant requirements"
   ]
  },
  {
   "cell_type": "code",
   "execution_count": 69,
   "id": "d55cc93b",
   "metadata": {},
   "outputs": [],
   "source": [
    "def fastquant_preprocess(data,pred):\n",
    "    \"\"\"Put data as an index and add the prediction column \n",
    "    \n",
    "        data = array of dataframe\n",
    "        pred = multidimensional array of prediction, accuracy and confusion matrix\n",
    "    \"\"\"\n",
    "    fq_data = []\n",
    "    for i in range(len(data)):\n",
    "        fq = data[i].iloc[692:] # 2019 to 2020\n",
    "        fq['custom'] = pred[i][0]\n",
    "        fq['dt'] = fq['Date']\n",
    "        fq = fq.drop('Date',axis = 1)\n",
    "        fq.set_index('dt', inplace=True)\n",
    "        fq = fq[['Open','High', 'Low', 'Close', 'custom']]#keeping only ohlc values and predictions\n",
    "        fq_data.append(fq)\n",
    "    return fq_data"
   ]
  },
  {
   "cell_type": "code",
   "execution_count": 70,
   "id": "4807e2ab",
   "metadata": {},
   "outputs": [],
   "source": [
    "fq_data = fastquant_preprocess(dataframes,prediction_info)"
   ]
  },
  {
   "cell_type": "code",
   "execution_count": null,
   "id": "49eaa92f",
   "metadata": {},
   "outputs": [],
   "source": []
  },
  {
   "cell_type": "markdown",
   "id": "0fd40075",
   "metadata": {},
   "source": [
    "# Backtesting the strategy"
   ]
  },
  {
   "cell_type": "code",
   "execution_count": 89,
   "id": "4f828a06",
   "metadata": {},
   "outputs": [],
   "source": [
    "def backtesting(fq_data):\n",
    "    \"\"\" use fastquant library to get the final value of portfolio as well as percentage increase\n",
    "        data = dataset\n",
    "    \"\"\"\n",
    "    results = []\n",
    "    for i in range(len(fq_data)):\n",
    "        res = backtest(TernaryStrategy,fq_data[i], init_cash = 2342, plot=False,return_history = True, verbose = 0)[0]\n",
    "        init_value = res['init_cash'].values\n",
    "        final_value = res['final_value'].values\n",
    "        incr = (final_value / init_value -1) * 100\n",
    "        results.append([init_value,final_value,incr])\n",
    "    return results"
   ]
  },
  {
   "cell_type": "code",
   "execution_count": 90,
   "id": "2fadcd9d",
   "metadata": {},
   "outputs": [],
   "source": [
    "results = backtesting(fq_data)"
   ]
  },
  {
   "cell_type": "code",
   "execution_count": 94,
   "id": "96eea902",
   "metadata": {},
   "outputs": [
    {
     "data": {
      "text/plain": [
       "[[array([2342], dtype=int64), array([3465.901925]), array([47.98898057])],\n",
       " [array([2342], dtype=int64), array([1873.655775]), array([-19.99761849])],\n",
       " [array([2342], dtype=int64), array([3240.2092]), array([38.35222886])],\n",
       " [array([2342], dtype=int64), array([3205.1788]), array([36.85648164])],\n",
       " [array([2342], dtype=int64), array([2018.421225]), array([-13.81634394])]]"
      ]
     },
     "execution_count": 94,
     "metadata": {},
     "output_type": "execute_result"
    }
   ],
   "source": [
    "results"
   ]
  },
  {
   "cell_type": "markdown",
   "id": "ddb76b76",
   "metadata": {},
   "source": [
    "# Display of the results and discussion"
   ]
  },
  {
   "cell_type": "code",
   "execution_count": 111,
   "id": "4b2f1fba",
   "metadata": {},
   "outputs": [
    {
     "name": "stdout",
     "output_type": "stream",
     "text": [
      "confusion matrix for Decision5\n",
      "[[132   6]\n",
      " [132  42]]\n",
      "percentage of interest gained or lost for the decision\n",
      "47.988980572160564\n",
      "\n",
      "confusion matrix for Decision10\n",
      "[[86 63]\n",
      " [77 81]]\n",
      "percentage of interest gained or lost for the decision\n",
      "-19.997618488471304\n",
      "\n",
      "confusion matrix for Decision14\n",
      "[[128  11]\n",
      " [132  32]]\n",
      "percentage of interest gained or lost for the decision\n",
      "38.35222886421865\n",
      "\n",
      "confusion matrix for Decision28\n",
      "[[117  12]\n",
      " [126  34]]\n",
      "percentage of interest gained or lost for the decision\n",
      "36.85648163962434\n",
      "\n",
      "confusion matrix for Decision50\n",
      "[[58 47]\n",
      " [69 93]]\n",
      "percentage of interest gained or lost for the decision\n",
      "-13.816343936806119\n",
      "\n"
     ]
    }
   ],
   "source": [
    "for i in range(len(results)):\n",
    "    print(\"confusion matrix for \" + decisions[i])\n",
    "    print(prediction_info[i][2])\n",
    "    print(\"percentage of interest gained or lost for the decision\")\n",
    "    print(results[i][2][0])\n",
    "    print(\"\")"
   ]
  },
  {
   "cell_type": "markdown",
   "id": "e2ed2c92",
   "metadata": {},
   "source": [
    "### As can be seen by the matrices above as well as the money gained, it seems that there is a relationship between the accuracy at which the selling entries are predicted and the money made. Indeed, when the prediction of selling is really high, we have 48%,38%,37% returns. When the selling accuracy is significantly lower, the fact that the buying entries are predicted with an higher accuracy does not seem to impact the return, as can be seen by the returns of -20%, -14%"
   ]
  },
  {
   "cell_type": "markdown",
   "id": "a7d12f64",
   "metadata": {},
   "source": [
    "### During this analysis, the 'hold' class was added after the classifying, including it prior may give different results and contradicts the above hypothesis."
   ]
  },
  {
   "cell_type": "markdown",
   "id": "18e8782c",
   "metadata": {},
   "source": [
    "### The WilliamR indicator was dropped since it considerably lowered the accuracy. We believe it is due to the fact that it was a ternary value while the other inputs were binary values and changing often, therefore adding more noise than information"
   ]
  },
  {
   "cell_type": "markdown",
   "id": "8523d051",
   "metadata": {},
   "source": [
    "### The set of inputs were chosen after different trials and were kept because of the high return they yielded. Some set of inputs gave more accuracy  but less return. In an optic of making profits, return should be prioritized to accuracy."
   ]
  },
  {
   "cell_type": "code",
   "execution_count": null,
   "id": "a5d932e3",
   "metadata": {},
   "outputs": [],
   "source": []
  }
 ],
 "metadata": {
  "kernelspec": {
   "display_name": "Python 3",
   "language": "python",
   "name": "python3"
  },
  "language_info": {
   "codemirror_mode": {
    "name": "ipython",
    "version": 3
   },
   "file_extension": ".py",
   "mimetype": "text/x-python",
   "name": "python",
   "nbconvert_exporter": "python",
   "pygments_lexer": "ipython3",
   "version": "3.9.5"
  }
 },
 "nbformat": 4,
 "nbformat_minor": 5
}
